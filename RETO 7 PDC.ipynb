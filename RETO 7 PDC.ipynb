{
 "cells": [
  {
   "cell_type": "code",
   "execution_count": null,
   "metadata": {},
   "outputs": [],
   "source": [
    "n:int=1\n",
    "cuadrado=n**2\n",
    "while(n<=100):\n",
    "    print(\"El cuadrado de \" + str(n) + \" es \" + str(cuadrado))\n",
    "    n =n+1\n",
    "    cuadrado= (n)**2\n",
    "        "
   ]
  },
  {
   "cell_type": "code",
   "execution_count": null,
   "metadata": {},
   "outputs": [],
   "source": [
    "i : int = 0 \n",
    "while(i <= 999): \n",
    "  i += 1 \n",
    "  if i%2==0: \n",
    "    continue\n",
    "  print(i) \n",
    "i : int = 0 \n",
    "while(i <= 999): \n",
    "  i += 1 \n",
    "  if i%2>0: \n",
    "    continue\n",
    "  print(i) "
   ]
  },
  {
   "cell_type": "code",
   "execution_count": null,
   "metadata": {},
   "outputs": [],
   "source": [
    "n=int(input(\"Ingresa un número mayor o igual a 2:\"))\n",
    "i=n\n",
    "while i>=2:\n",
    " if i%2==0:\n",
    "        print (i )\n",
    " i -=1"
   ]
  },
  {
   "cell_type": "code",
   "execution_count": null,
   "metadata": {},
   "outputs": [],
   "source": [
    "A = 25e+6\n",
    "B = 18.9e+6\n",
    "año = 2022 \n",
    "while B < A: \n",
    " print(str(año) + \":\" + \"Poblacion del pais A:\" + str(A) + \" y \" + \"Poblacion del pais B:\" + str(B))\n",
    " A=A+(A*0.02) \n",
    " B=B+(B*0.03)\n",
    " año +=1 \n",
    "print(\"Este año la poblacion B sobrepaso la poblacion A.\") \n",
    "print(str(año) + \":\" + \"Poblacion del pais A:\" + str(A) + \" y \" + \"Poblacion del pais B:\" + str(B))"
   ]
  },
  {
   "cell_type": "code",
   "execution_count": null,
   "metadata": {},
   "outputs": [],
   "source": [
    "def factorial(n:int)->int:\n",
    "   if n==0 or n==1:\n",
    "            resultado=1\n",
    "   elif n>1:\n",
    "            resultado=n*factorial(n-1)\n",
    "   return resultado\n",
    "if __name__:\"__main__\"\n",
    "n=int(input(\"Ingrese un numero natural:\"))\n",
    "factorial=factorial(n)\n",
    "print(\"El factorial del numero \"+ str(n)+ \" es \"+ str(factorial))"
   ]
  },
  {
   "cell_type": "code",
   "execution_count": null,
   "metadata": {},
   "outputs": [],
   "source": [
    "import random \n",
    "n = random.randint(1, 100)   \n",
    "numero: int = int(input(\"Ingrese número de 1 a 100 que considera es el número que tiene el programa: \")) \n",
    "\n",
    "while (1<=numero<=100): \n",
    "    if n==numero: \n",
    "        print(\"Adivinaste el número\") \n",
    "        break \n",
    "    if numero>n: \n",
    "        numero = int(input(\"El número es MENOR, inserte un nuevo número: \")) \n",
    "    if numero<n: \n",
    "        numero = int(input(\"El número es MAYOR, inserte un número nuevo: \"))\n",
    "print(\"El número que ingresaste fue: \" + str(numero)) \n",
    "print(\"El número aleatorio fue: \" + str(n)) "
   ]
  },
  {
   "cell_type": "code",
   "execution_count": null,
   "metadata": {},
   "outputs": [],
   "source": [
    "n: int = int(input(\"Ingrese un número entre 2 y 50: \"))\n",
    "divisor: int = 1 \n",
    "while (2<=n<=50) and divisor<=n:  \n",
    "    if n%divisor == 0: \n",
    "        print (\"El número \"+ str(divisor) + \" es un divisor de \"+ str(n))\n",
    "    divisor +=1"
   ]
  },
  {
   "cell_type": "code",
   "execution_count": null,
   "metadata": {},
   "outputs": [],
   "source": [
    "def primo():                \n",
    "    n = 1                   \n",
    "    while (n<=100):       \n",
    "        i = 1              \n",
    "        x = 0               \n",
    "        while i <= n:      \n",
    "            if n%i==0:      \n",
    "                x = x + 1   \n",
    "            i = i + 1       \n",
    "        if x == 2:          \n",
    "            print(n)       \n",
    "        n = n + 1           \n",
    "\n",
    "primo()    "
   ]
  }
 ],
 "metadata": {
  "language_info": {
   "name": "python"
  },
  "orig_nbformat": 4
 },
 "nbformat": 4,
 "nbformat_minor": 2
}
